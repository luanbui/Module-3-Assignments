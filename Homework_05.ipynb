{
 "cells": [
  {
   "cell_type": "markdown",
   "id": "b1e6cc80",
   "metadata": {},
   "source": [
    "# **Week 5: Feature Selection and Regularization on the Ames Housing Dataset**\n",
    "\n",
    "In this homework, we will experiment with two feature selection methods and one regularization technique for linear regression:\n",
    "- **Forward Selection**\n",
    "- **Backward Selection**\n",
    "- **Ridge Regression**\n",
    "\n",
    "We will apply these techniques to the preprocessed Ames Housing dataset from last week, evaluate which method achieves the best cross-validation (CV) score, and provide a final test score for the best model. \n",
    "\n",
    "There are 4 problems with 8 graded answers worth 6 points each, and you get 2 points free. "
   ]
  },
  {
   "cell_type": "code",
   "execution_count": 1,
   "id": "1f38fcab-bcb2-4b70-a304-6412d94a36df",
   "metadata": {},
   "outputs": [
    {
     "name": "stderr",
     "output_type": "stream",
     "text": [
      "/Users/luanbui/Documents/BU/.venv/lib/python3.12/site-packages/tqdm/auto.py:21: TqdmWarning: IProgress not found. Please update jupyter and ipywidgets. See https://ipywidgets.readthedocs.io/en/stable/user_install.html\n",
      "  from .autonotebook import tqdm as notebook_tqdm\n"
     ]
    }
   ],
   "source": [
    "# Useful imports\n",
    "\n",
    "import os\n",
    "import kagglehub\n",
    "import pandas as pd\n",
    "import numpy as np\n",
    "import matplotlib.pyplot as plt\n",
    "import requests\n",
    "import io\n",
    "import zipfile\n",
    "\n",
    "from sklearn.model_selection   import train_test_split, cross_val_score,RepeatedKFold\n",
    "from sklearn.linear_model      import LinearRegression,Ridge,Lasso\n",
    "from sklearn.model_selection   import GridSearchCV\n",
    "from sklearn.feature_selection import SequentialFeatureSelector\n",
    "from sklearn.metrics           import mean_squared_error, r2_score\n",
    "from sklearn.preprocessing     import StandardScaler \n",
    "\n",
    "random_seed = 42"
   ]
  },
  {
   "cell_type": "markdown",
   "id": "241380b6-01ad-4a90-91ee-d5c4f53b9218",
   "metadata": {},
   "source": [
    "## **Prelude: Download the Preprocessed Ames Housing Dataset**\n",
    "\n",
    "I have stored the dataset as a zipped directory containing the following four files from an 80%-20% split of the Ames dataset after preprocessing (as done in the last homework):\n",
    "\n",
    "- `X_train.csv`         \n",
    "- `y_train.csv`\n",
    "- `X_test.csv`          \n",
    "- `y_test.csv`\n",
    "\n",
    "**TODO:** Run the following cell to download and extract the dataset into the current working directory of this notebook.  \n",
    "Alternatively, you can manually download the zip file from the provided URL, extract it, and place the files in the same directory as your notebook.\n",
    "\n",
    "> ⚠️ **Important:**  \n",
    "> DO NOT use your own version of these datasets from the last homework. The autograder expects the exact split provided in my files for both training and testing sets. Using any other split will result in incorrect results during grading.\n"
   ]
  },
  {
   "cell_type": "code",
   "execution_count": 4,
   "id": "dd27c153-4225-4556-9515-cb6a917f4221",
   "metadata": {},
   "outputs": [
    {
     "name": "stdout",
     "output_type": "stream",
     "text": [
      "Files downloaded and extracted successfully.\n",
      "Training and testing datasets loaded successfully.\n"
     ]
    }
   ],
   "source": [
    "# Download the Ames Housing Dataset from Snyder's web site\n",
    "\n",
    "# URL to the zip file\n",
    "zip_url = \"https://www.cs.bu.edu/fac/snyder/cs505/Data/ames_housing.zip\"\n",
    "\n",
    "try:\n",
    "    response = requests.get(zip_url)\n",
    "    response.raise_for_status()  # Raise an error for bad status codes\n",
    "    with zipfile.ZipFile(io.BytesIO(response.content)) as zipf:\n",
    "        zipf.extractall(\"ames_data\")\n",
    "    print(\"Files downloaded and extracted successfully.\")\n",
    "except requests.exceptions.RequestException as e:\n",
    "    print(f\"Error downloading the file: {e}\")\n",
    "\n",
    "# Load the datasets\n",
    "X_train = pd.read_csv(\"ames_data/X_train.csv\")\n",
    "X_test = pd.read_csv(\"ames_data/X_test.csv\")\n",
    "y_train = pd.read_csv(\"ames_data/y_train.csv\").squeeze(\"columns\")          # converted to a Series\n",
    "y_test = pd.read_csv(\"ames_data/y_test.csv\").squeeze(\"columns\")\n",
    "\n",
    "print(\"Training and testing datasets loaded successfully.\")\n"
   ]
  },
  {
   "cell_type": "markdown",
   "id": "3ac6da55-0dc7-4509-b2d7-afd475af4060",
   "metadata": {},
   "source": [
    "## **Problem One: Forward Selection with the Ames Dataset**\n",
    "\n",
    "For our first experiment we will apply the forward feature selection algorithm to the dataset. Follow these steps, using the notebook from this week's video lesson as a resource as necessary. \n",
    "\n",
    "**If you have not looked at the video yet, please do it now before continuing.**\n",
    "\n",
    "**Steps to Follow:**\n",
    "1. **Observe** that we have provided the `forward_feature_selection` algorithm from the video notebook for you to use. \n",
    "\n",
    "2. **Copy** from the video notebook into the cell indicated below the code that runs forward feature selection and generates a plot (excluding the part that prints the test MSE--we'll do that at the end of this homework). Or write your own version!\n",
    "\n",
    "3. **Modify** this code to display the **Root Mean Squared Error (RMSE)** instead of MSE.  \n",
    "   - *Remember*: RMSE is the square root of MSE, which provides results in dollars rather than dollars squared, making the metric more interpretable.  \n",
    "   - Both the plot of RMSE vs. the number of selected features and the printout of the Best CV Score should use RMSE.\n",
    "\n",
    "4. **Run** the code on `X_train` and `y_train` (keeping all default settings) to:\n",
    "   - Generate the plot of **Root Mean Squared Error (RMSE)** vs. **Features Added**, and  \n",
    "   - Print the **Best Feature Set** found and the **Best CV RMSE Score**.\n",
    "\n",
    "**Hints:**\n",
    "- The feature names will be more legible if you increase the size of the plot and change the angle and size of the xticks, e.g.,\n",
    "\n",
    "        plt.xticks(range(1, len(selected_features_forward) + 1), selected_features_forward, rotation=60, ha='right', fontsize=6) \n",
    "\n",
    "- You may wish to change the scale of the y-axis to better see the behavior around the minimum point."
   ]
  },
  {
   "cell_type": "code",
   "execution_count": 13,
   "id": "7227d05b-cc9a-4193-9a5e-703172193095",
   "metadata": {
    "jupyter": {
     "source_hidden": true
    }
   },
   "outputs": [],
   "source": [
    "# Forward Feature Selection\n",
    "\n",
    "def forward_feature_selection(X, y, model, \n",
    "                              scoring='neg_mean_squared_error', \n",
    "                              cv = 5, \n",
    "                              tol=None,               # None = no delta cutoff\n",
    "                                                      # use 0.0 for \"no further improvements\"\n",
    "                                                      # and 1e-4 for \"point of diminishing returns\"                                      \n",
    "                              max_features=None,      # None = use all features\n",
    "                              n_jobs=-1,\n",
    "                              verbose=False\n",
    "                             ):\n",
    "    selected_features = []                            # List to store the order of features selected\n",
    "    remaining_features = list(X.columns)              # Features not yet selected\n",
    "    best_scores = []                                  # List to store the CV score after each feature addition\n",
    "    previous_score = float('inf')                     # Initialize previous score for improvement comparison\n",
    "\n",
    "    # Track the best subset of features and its corresponding score\n",
    "    \n",
    "    best_feature_set = None                           # Best combination of features found so far\n",
    "    best_score = float('inf')                         # Best CV score observed so far\n",
    "    \n",
    "    while remaining_features:\n",
    "        scores = {}                                   # Dictionary to hold CV scores for each candidate feature\n",
    "        for feature in remaining_features:\n",
    "            current_features = selected_features + [feature]\n",
    "            \n",
    "            # Compute the CV score for the current set of features (negated MSE, so lower is better)\n",
    "            cv_score = -cross_val_score(model, X[current_features], y, \n",
    "                                        scoring=scoring, cv=cv, n_jobs=n_jobs\n",
    "                                       ).mean()\n",
    "            scores[feature] = np.sqrt(cv_score)\n",
    "\n",
    "        # Select the feature that minimizes the CV score\n",
    "        best_feature = min(scores, key=scores.get)\n",
    "        current_score = scores[best_feature]\n",
    "            \n",
    "        # Check if the improvement is significant based on the tolerance (tol)\n",
    "        if tol is not None and previous_score - current_score < tol:\n",
    "            if verbose:\n",
    "                print(\"Stopping early due to minimal improvement.\")\n",
    "            break\n",
    "\n",
    "        # Add the best feature to the selected list and update score trackers\n",
    "        selected_features.append(best_feature)\n",
    "        best_scores.append(current_score)\n",
    "        remaining_features.remove(best_feature)\n",
    "        previous_score = current_score\n",
    "\n",
    "        if verbose:\n",
    "            print(f\"\\nFeatures: {selected_features[-3:]}, CV Score (MSE): {current_score:.4f}\")\n",
    "        \n",
    "        # Update the best subset if the current score is better than the best so far\n",
    "        if current_score < best_score:\n",
    "            best_score = current_score\n",
    "            best_feature_set = selected_features.copy()\n",
    "        \n",
    "        # Check if the maximum number of features has been reached\n",
    "        if max_features is not None and len(selected_features) >= max_features:\n",
    "            break\n",
    "\n",
    "    return (\n",
    "        selected_features,      # List of features in the order they were selected (this will be ALL features if max_features == None\n",
    "        best_scores,            # List of cross-validation scores corresponding to each addition in the previous list\n",
    "        best_feature_set,       # The subset of features that achieved the best CV score.\n",
    "        best_score              # The best CV score\n",
    "    )\n"
   ]
  },
  {
   "cell_type": "code",
   "execution_count": 14,
   "id": "8dca9413-91ff-46c1-9a95-a284bdc4f005",
   "metadata": {},
   "outputs": [
    {
     "name": "stdout",
     "output_type": "stream",
     "text": [
      "\n",
      "Features: ['Overall Qual'], CV Score (MSE): 46802.2075\n",
      "\n",
      "Features: ['Overall Qual', 'Gr Liv Area'], CV Score (MSE): 40431.5679\n",
      "\n",
      "Features: ['Overall Qual', 'Gr Liv Area', 'BsmtFin SF 1'], CV Score (MSE): 37835.3641\n",
      "\n",
      "Features: ['Gr Liv Area', 'BsmtFin SF 1', 'Exter Qual'], CV Score (MSE): 36098.7651\n",
      "\n",
      "Features: ['BsmtFin SF 1', 'Exter Qual', 'Garage Cars'], CV Score (MSE): 34870.1870\n",
      "\n",
      "Features: ['Exter Qual', 'Garage Cars', 'MS SubClass'], CV Score (MSE): 33927.1628\n",
      "\n",
      "Features: ['Garage Cars', 'MS SubClass', 'Bsmt Exposure'], CV Score (MSE): 33295.2585\n",
      "\n",
      "Features: ['MS SubClass', 'Bsmt Exposure', 'Kitchen Qual'], CV Score (MSE): 32840.5474\n",
      "\n",
      "Features: ['Bsmt Exposure', 'Kitchen Qual', 'Year Built'], CV Score (MSE): 32468.7439\n",
      "\n",
      "Features: ['Kitchen Qual', 'Year Built', 'Overall Cond'], CV Score (MSE): 32150.3461\n",
      "\n",
      "Features: ['Year Built', 'Overall Cond', 'Screen Porch'], CV Score (MSE): 31890.8422\n",
      "\n",
      "Features: ['Overall Cond', 'Screen Porch', 'Lot Area'], CV Score (MSE): 31655.5954\n",
      "\n",
      "Features: ['Screen Porch', 'Lot Area', 'Bsmt Qual'], CV Score (MSE): 31416.9804\n",
      "\n",
      "Features: ['Lot Area', 'Bsmt Qual', 'Mas Vnr Area'], CV Score (MSE): 31253.1292\n",
      "\n",
      "Features: ['Bsmt Qual', 'Mas Vnr Area', 'Bsmt Full Bath'], CV Score (MSE): 31128.1919\n",
      "\n",
      "Features: ['Mas Vnr Area', 'Bsmt Full Bath', 'Sale Condition'], CV Score (MSE): 31011.6138\n",
      "\n",
      "Features: ['Bsmt Full Bath', 'Sale Condition', 'Fireplaces'], CV Score (MSE): 30916.7807\n",
      "\n",
      "Features: ['Sale Condition', 'Fireplaces', 'Functional'], CV Score (MSE): 30810.0767\n",
      "\n",
      "Features: ['Fireplaces', 'Functional', 'Yr Sold'], CV Score (MSE): 30738.5547\n",
      "\n",
      "Features: ['Functional', 'Yr Sold', 'Neighborhood'], CV Score (MSE): 30675.1708\n",
      "\n",
      "Features: ['Yr Sold', 'Neighborhood', 'Wood Deck SF'], CV Score (MSE): 30621.7095\n",
      "\n",
      "Features: ['Neighborhood', 'Wood Deck SF', 'House Style'], CV Score (MSE): 30570.1221\n",
      "\n",
      "Features: ['Wood Deck SF', 'House Style', 'Kitchen AbvGr'], CV Score (MSE): 30526.2231\n",
      "\n",
      "Features: ['House Style', 'Kitchen AbvGr', 'Street'], CV Score (MSE): 30481.3889\n",
      "\n",
      "Features: ['Kitchen AbvGr', 'Street', 'Roof Style'], CV Score (MSE): 30455.8126\n",
      "\n",
      "Features: ['Street', 'Roof Style', 'Heating QC'], CV Score (MSE): 30436.3344\n",
      "\n",
      "Features: ['Roof Style', 'Heating QC', 'Exterior 1st'], CV Score (MSE): 30403.0880\n",
      "\n",
      "Features: ['Heating QC', 'Exterior 1st', 'Garage Cond'], CV Score (MSE): 30392.1320\n",
      "\n",
      "Features: ['Exterior 1st', 'Garage Cond', 'Bldg Type'], CV Score (MSE): 30381.2309\n",
      "\n",
      "Features: ['Garage Cond', 'Bldg Type', 'Land Slope'], CV Score (MSE): 30369.4951\n",
      "\n",
      "Features: ['Bldg Type', 'Land Slope', 'Land Contour'], CV Score (MSE): 30355.6458\n",
      "\n",
      "Features: ['Land Slope', 'Land Contour', 'Enclosed Porch'], CV Score (MSE): 30349.0861\n",
      "\n",
      "Features: ['Land Contour', 'Enclosed Porch', 'Low Qual Fin SF'], CV Score (MSE): 30342.7090\n",
      "\n",
      "Features: ['Enclosed Porch', 'Low Qual Fin SF', 'BsmtFin Type 1'], CV Score (MSE): 30337.1140\n",
      "\n",
      "Features: ['Low Qual Fin SF', 'BsmtFin Type 1', 'Exterior 2nd'], CV Score (MSE): 30331.8116\n",
      "\n",
      "Features: ['BsmtFin Type 1', 'Exterior 2nd', 'Garage Yr Blt'], CV Score (MSE): 30326.5862\n",
      "\n",
      "Features: ['Exterior 2nd', 'Garage Yr Blt', 'Garage Qual'], CV Score (MSE): 30318.6332\n",
      "\n",
      "Features: ['Garage Yr Blt', 'Garage Qual', 'Lot Shape'], CV Score (MSE): 30315.4765\n",
      "\n",
      "Features: ['Garage Qual', 'Lot Shape', 'Half Bath'], CV Score (MSE): 30314.5352\n",
      "\n",
      "Features: ['Lot Shape', 'Half Bath', 'MS Zoning'], CV Score (MSE): 30313.4342\n",
      "\n",
      "Features: ['Half Bath', 'MS Zoning', 'Exter Cond'], CV Score (MSE): 30312.7016\n",
      "\n",
      "Features: ['MS Zoning', 'Exter Cond', 'Bsmt Cond'], CV Score (MSE): 30314.5833\n",
      "\n",
      "Features: ['Exter Cond', 'Bsmt Cond', 'Sale Type'], CV Score (MSE): 30317.4672\n",
      "\n",
      "Features: ['Bsmt Cond', 'Sale Type', 'Garage Type'], CV Score (MSE): 30322.1914\n",
      "\n",
      "Features: ['Sale Type', 'Garage Type', 'Electrical'], CV Score (MSE): 30327.5329\n",
      "\n",
      "Features: ['Garage Type', 'Electrical', 'Paved Drive'], CV Score (MSE): 30333.2901\n",
      "\n",
      "Features: ['Electrical', 'Paved Drive', 'BsmtFin SF 2'], CV Score (MSE): 30341.2832\n",
      "\n",
      "Features: ['Paved Drive', 'BsmtFin SF 2', 'Central Air'], CV Score (MSE): 30349.7842\n",
      "\n",
      "Features: ['BsmtFin SF 2', 'Central Air', 'Year Remod/Add'], CV Score (MSE): 30358.8134\n",
      "\n",
      "Features: ['Central Air', 'Year Remod/Add', 'Lot Config'], CV Score (MSE): 30369.5090\n",
      "\n",
      "Features: ['Year Remod/Add', 'Lot Config', 'Condition 1'], CV Score (MSE): 30379.7564\n",
      "\n",
      "Features: ['Lot Config', 'Condition 1', '3Ssn Porch'], CV Score (MSE): 30394.6068\n",
      "\n",
      "Features: ['Condition 1', '3Ssn Porch', 'Foundation'], CV Score (MSE): 30409.5480\n",
      "\n",
      "Features: ['3Ssn Porch', 'Foundation', 'Condition 2'], CV Score (MSE): 30424.9758\n",
      "\n",
      "Features: ['Foundation', 'Condition 2', 'Mo Sold'], CV Score (MSE): 30440.4924\n",
      "\n",
      "Features: ['Condition 2', 'Mo Sold', 'TotRms AbvGrd'], CV Score (MSE): 30459.2464\n",
      "\n",
      "Features: ['Mo Sold', 'TotRms AbvGrd', 'BsmtFin Type 2'], CV Score (MSE): 30478.4369\n",
      "\n",
      "Features: ['TotRms AbvGrd', 'BsmtFin Type 2', 'Heating'], CV Score (MSE): 30500.7804\n",
      "\n",
      "Features: ['BsmtFin Type 2', 'Heating', 'Garage Finish'], CV Score (MSE): 30524.8672\n",
      "\n",
      "Features: ['Heating', 'Garage Finish', 'Open Porch SF'], CV Score (MSE): 30556.2496\n",
      "\n",
      "Features: ['Garage Finish', 'Open Porch SF', '2nd Flr SF'], CV Score (MSE): 30589.3628\n",
      "\n",
      "Features: ['Open Porch SF', '2nd Flr SF', '1st Flr SF'], CV Score (MSE): 30589.3628\n",
      "\n",
      "Features: ['2nd Flr SF', '1st Flr SF', 'Full Bath'], CV Score (MSE): 30616.8828\n",
      "\n",
      "Features: ['1st Flr SF', 'Full Bath', 'Utilities'], CV Score (MSE): 30650.4651\n",
      "\n",
      "Features: ['Full Bath', 'Utilities', 'Bsmt Half Bath'], CV Score (MSE): 30685.1965\n",
      "\n",
      "Features: ['Utilities', 'Bsmt Half Bath', 'Roof Matl'], CV Score (MSE): 30716.8479\n",
      "\n",
      "Features: ['Bsmt Half Bath', 'Roof Matl', 'Bedroom AbvGr'], CV Score (MSE): 30766.6422\n",
      "\n",
      "Features: ['Roof Matl', 'Bedroom AbvGr', 'Lot Frontage'], CV Score (MSE): 30825.8620\n",
      "\n",
      "Features: ['Bedroom AbvGr', 'Lot Frontage', 'Garage Area'], CV Score (MSE): 30871.6455\n",
      "\n",
      "Features: ['Lot Frontage', 'Garage Area', 'Pool Area'], CV Score (MSE): 30928.8977\n",
      "\n",
      "Features: ['Garage Area', 'Pool Area', 'Total Bsmt SF'], CV Score (MSE): 31158.3803\n",
      "\n",
      "Features: ['Pool Area', 'Total Bsmt SF', 'Bsmt Unf SF'], CV Score (MSE): 31158.7992\n",
      "\n",
      "Features: ['Total Bsmt SF', 'Bsmt Unf SF', 'Misc Val'], CV Score (MSE): 31485.4127\n"
     ]
    },
    {
     "data": {
      "image/png": "[encoded data removed]",
      "text/plain": [
       "<Figure size 2000x1000 with 1 Axes>"
      ]
     },
     "metadata": {},
     "output_type": "display_data"
    },
    {
     "name": "stdout",
     "output_type": "stream",
     "text": [
      "Best Features: ['Overall Qual', 'Gr Liv Area', 'BsmtFin SF 1', 'Exter Qual', 'Garage Cars', 'MS SubClass', 'Bsmt Exposure', 'Kitchen Qual', 'Year Built', 'Overall Cond', 'Screen Porch', 'Lot Area', 'Bsmt Qual', 'Mas Vnr Area', 'Bsmt Full Bath', 'Sale Condition', 'Fireplaces', 'Functional', 'Yr Sold', 'Neighborhood', 'Wood Deck SF', 'House Style', 'Kitchen AbvGr', 'Street', 'Roof Style', 'Heating QC', 'Exterior 1st', 'Garage Cond', 'Bldg Type', 'Land Slope', 'Land Contour', 'Enclosed Porch', 'Low Qual Fin SF', 'BsmtFin Type 1', 'Exterior 2nd', 'Garage Yr Blt', 'Garage Qual', 'Lot Shape', 'Half Bath', 'MS Zoning', 'Exter Cond']\n",
      "Best CV Score: 30312.7016\n"
     ]
    }
   ],
   "source": [
    "# Your code here:  Run Forward Feature Selection, plot the results, and print out the Best Feature Set and the Best CV Score found. \n",
    "\n",
    "# Run Forward Feature Selection\n",
    "\n",
    "model = LinearRegression()\n",
    "\n",
    "selected_features, best_scores, best_forward_features, best_score =    (\n",
    "            forward_feature_selection(X_train, y_train, model, verbose=True) )\n",
    "\n",
    "# Plot the results\n",
    "\n",
    "index = np.argmax(np.array(selected_features) == best_forward_features[-1])\n",
    "\n",
    "plt.figure(figsize=(20, 10))\n",
    "plt.plot(range(1, len(best_scores) + 1), best_scores, marker='.')\n",
    "plt.plot([index+1],best_score,marker='x',color='red')\n",
    "plt.xticks(range(1, len(selected_features) + 1), selected_features, rotation=60, ha='right', fontsize=6) \n",
    "plt.title('Forward Feature Selection and CV Scores')\n",
    "plt.xlabel('Features Added')\n",
    "plt.ylabel('CV Score (MSE)')\n",
    "plt.grid()\n",
    "plt.tight_layout()\n",
    "plt.show()\n",
    "\n",
    "# Print the best subset and score\n",
    "print(f\"Best Features: {best_forward_features}\")\n",
    "print(f\"Best CV Score: {best_score:.4f}\")\n"
   ]
  },
  {
   "cell_type": "markdown",
   "id": "9572c997-88f7-4373-9e84-8da9350da209",
   "metadata": {},
   "source": [
    "### Problem One Graded Questions\n",
    "\n",
    "Assign `a1a` to the number of features in the best feature set found"
   ]
  },
  {
   "cell_type": "code",
   "execution_count": 15,
   "id": "b4fecff6-613e-4950-b65c-ddbd4d4006d0",
   "metadata": {},
   "outputs": [],
   "source": [
    "# Your answer here; use an expression, not a constant derived by examining the data\n",
    "\n",
    "a1a = len(best_forward_features)                     # replace 0 with an expression"
   ]
  },
  {
   "cell_type": "code",
   "execution_count": 16,
   "id": "c9d01a9f-72b0-46b1-8d76-9fac767cb793",
   "metadata": {},
   "outputs": [
    {
     "name": "stdout",
     "output_type": "stream",
     "text": [
      "a1a = 41\n"
     ]
    }
   ],
   "source": [
    "# Do not change this cell in any way\n",
    "\n",
    "print(f\"a1a = {a1a}\")"
   ]
  },
  {
   "cell_type": "markdown",
   "id": "2f794640-c8fd-4e72-92f3-46d53f63e82f",
   "metadata": {},
   "source": [
    "Assign `a1b` to the best CV RMSE score found."
   ]
  },
  {
   "cell_type": "code",
   "execution_count": 17,
   "id": "56c91bdb-203f-48b5-bb70-7b755863f362",
   "metadata": {},
   "outputs": [],
   "source": [
    "# Your answer here; use an expression, not a constant derived by examining the data\n",
    "\n",
    "a1b = best_score                     # replace 0 with an expression"
   ]
  },
  {
   "cell_type": "code",
   "execution_count": 18,
   "id": "4414dc04-9447-4fa1-8f9a-69bef939964f",
   "metadata": {},
   "outputs": [
    {
     "name": "stdout",
     "output_type": "stream",
     "text": [
      "a1b = $30,312.70\n"
     ]
    }
   ],
   "source": [
    "# Do not change this cell in any way\n",
    "\n",
    "print(f\"a1b = ${a1b:,.2f}\")"
   ]
  },
  {
   "cell_type": "markdown",
   "id": "dcdb9d5e-a422-4295-94a6-ba9db542ecec",
   "metadata": {},
   "source": [
    "## **Problem Two: Backward Selection with the Ames Dataset**\n",
    "\n",
    "Now, repeat the same process as in Problem One, but using the `backward_feature_selection` algorithm from this week’s video notebook. Again, we will use 5-Fold CV scoring. \n",
    "\n",
    "**Steps to Follow:**\n",
    "1. **Observe** that we have provided the `backward_feature_selection` algorithm from this week's video notebook for you to use.\n",
    "2. **Run** the backward selection algorithm on the Ames dataset (`X_train` and `y_train`).\n",
    "3. **Plot** the results: Display the Root Mean Squared Error (RMSE) vs. the features removed by the algorithm.\n",
    "4. **Print** the Best Feature Set found by backward selection and the corresponding best CV RMSE Score.\n"
   ]
  },
  {
   "cell_type": "code",
   "execution_count": 19,
   "id": "413a71be-f510-43fa-8821-4715f3126e44",
   "metadata": {
    "jupyter": {
     "source_hidden": true
    }
   },
   "outputs": [],
   "source": [
    "# Backward Feature Selection\n",
    "\n",
    "def backward_feature_selection(X, y, model, \n",
    "                               scoring='neg_mean_squared_error', \n",
    "                               cv = 5, \n",
    "                               tol=None,               # None = no delta cutoff\n",
    "                                                       # use 0.0 for \"no further improvements\"\n",
    "                                                       # and 1e-4 for \"point of diminishing returns\"                                      \n",
    "                               max_features=None,      # If None, remove features until only 1 remains\n",
    "                                                       # Otherwise, stop when this many features remain\n",
    "                               n_jobs=-1,\n",
    "                               verbose=True\n",
    "                              ):\n",
    "    \n",
    "    # Helper function to compute CV score using LinearRegression\n",
    "    def cv_score(features):\n",
    "        return -cross_val_score(model, X[features], y, \n",
    "                                scoring=scoring, cv=cv, \n",
    "                                n_jobs=n_jobs          ).mean()\n",
    "    \n",
    "    # Start with all features (using a list for easier manipulation)\n",
    "    features_remaining = list(X.columns)\n",
    "    \n",
    "    # Compute initial CV score with the full feature set\n",
    "    initial_score = cv_score(features_remaining)\n",
    "    \n",
    "    # Initialize tracking variables\n",
    "    best_score        = initial_score                # Best (lowest) CV score observed so far\n",
    "    best_feature_set  = features_remaining.copy()    # Feature set corresponding to best_score\n",
    "    selected_features = ['NONE']                     # List to record the order in which features are removed\n",
    "    best_scores       = [initial_score]              # List to record the CV score after each removal (starting with full set)\n",
    "    \n",
    "    if verbose:\n",
    "        print(\"Start with full set of features:\")\n",
    "        print(f'{features_remaining}  CV score (MSE): {np.around(initial_score, 4)}\\n')\n",
    "    \n",
    "    # Determine the target number of features to keep:\n",
    "    # For backward elimination, if max_features is None, we remove until 1 feature remains.\n",
    "    target_feature_count = 1 if max_features is None else max_features\n",
    "    \n",
    "    prev_score = initial_score\n",
    "    round_num = 1\n",
    "    # Continue removing features until we reach the target count\n",
    "    while len(features_remaining) > target_feature_count:\n",
    "        if verbose:\n",
    "            print(f'Round {round_num}:')\n",
    "            \n",
    "        # Initialize variables to track the best removal in this round\n",
    "        lowest_score = float('inf')\n",
    "        feature_to_remove = None\n",
    "        best_new_features = None\n",
    "        \n",
    "        # Try removing each feature one at a time\n",
    "        for feature in features_remaining:\n",
    "            new_feature_set = features_remaining.copy()\n",
    "            new_feature_set.remove(feature)\n",
    "            new_score = cv_score(new_feature_set)\n",
    "            if verbose:\n",
    "                print('Trying removal of:',feature, np.around(new_score, 4))\n",
    "            if new_score < lowest_score:\n",
    "                lowest_score = new_score\n",
    "                feature_to_remove = feature\n",
    "                best_new_features = new_feature_set\n",
    "        \n",
    "        # Check if improvement is significant enough (if tol is set)\n",
    "        if tol is not None and (prev_score - lowest_score) < tol:\n",
    "            if verbose:\n",
    "                print(\"\\nStopping early due to minimal improvement.\")\n",
    "            break\n",
    "        \n",
    "        # Update the best score and feature set if current removal improves performance\n",
    "        if lowest_score < best_score:\n",
    "            best_score = lowest_score\n",
    "            best_feature_set = best_new_features.copy()\n",
    "        \n",
    "        # Update trackers for this round\n",
    "        prev_score = lowest_score\n",
    "        features_remaining = best_new_features\n",
    "        selected_features.append(feature_to_remove)\n",
    "        best_scores.append(lowest_score)\n",
    "        \n",
    "        if verbose:\n",
    "            print(f'\\nRemoving {feature_to_remove}:  CV score (MSE) {np.around(lowest_score, 4)}\\n')\n",
    "        round_num += 1\n",
    "\n",
    "    return (\n",
    "        selected_features,      # Order in which features were removed\n",
    "        best_scores,            # CV scores after each removal step\n",
    "        best_feature_set,       # Feature set that achieved the best CV score\n",
    "        best_score              # Best (lowest) CV score\n",
    "    )\n"
   ]
  },
  {
   "cell_type": "code",
   "execution_count": 10,
   "id": "c6af2391-6f2a-4255-9eca-82e98fc3211e",
   "metadata": {},
   "outputs": [],
   "source": [
    "# Your code here:  Run Backward Feature Selection, plot the results, and print out the Best Feature Set and the Best CV RMSE Score found. \n"
   ]
  },
  {
   "cell_type": "markdown",
   "id": "98687287-29bd-41f2-9323-f90d7ea3a49a",
   "metadata": {},
   "source": [
    "### Problem Two Graded Questions\n",
    "\n",
    "Assign `a2a` to the number of features in the best feature set found"
   ]
  },
  {
   "cell_type": "code",
   "execution_count": 11,
   "id": "81158187-be32-4a27-ad62-107f9550210b",
   "metadata": {},
   "outputs": [],
   "source": [
    "# Your answer here; use an expression, not a constant derived by examining the data\n",
    "\n",
    "a2a = 0                     # replace 0 with an expression"
   ]
  },
  {
   "cell_type": "code",
   "execution_count": 12,
   "id": "988d0fb1-6837-470e-b835-859a09a763f3",
   "metadata": {},
   "outputs": [
    {
     "name": "stdout",
     "output_type": "stream",
     "text": [
      "a2a = 0\n"
     ]
    }
   ],
   "source": [
    "# Do not change this cell in any way\n",
    "\n",
    "print(f\"a2a = {a2a}\")"
   ]
  },
  {
   "cell_type": "markdown",
   "id": "00238e72-993a-4a96-9cf9-c9eb756dbcc6",
   "metadata": {},
   "source": [
    "Assign `a2b` to the best CV RMSE score found."
   ]
  },
  {
   "cell_type": "code",
   "execution_count": 13,
   "id": "256564af-ee5b-466f-946d-c8507c8cba79",
   "metadata": {},
   "outputs": [],
   "source": [
    "# Your answer here; use an expression, not a constant derived by examining the data\n",
    "\n",
    "a2b = 0                     # replace 0 with an expression"
   ]
  },
  {
   "cell_type": "code",
   "execution_count": 14,
   "id": "b05cff78-19ec-4ddd-bbc6-379e500a468a",
   "metadata": {},
   "outputs": [
    {
     "name": "stdout",
     "output_type": "stream",
     "text": [
      "a2b = $0.00\n"
     ]
    }
   ],
   "source": [
    "# Do not change this cell in any way\n",
    "\n",
    "print(f\"a2b = ${a2b:,.2f}\")"
   ]
  },
  {
   "cell_type": "markdown",
   "id": "d75e62d6-b553-4dc8-bb7b-5439a260c5ce",
   "metadata": {},
   "source": [
    "## **Problem Three: Ridge Regression on the Ames Housing Dataset**\n",
    "\n",
    "In this problem, we will apply Ridge Regression to the Ames Housing dataset. Ridge Regression includes a hyperparameter $\\alpha$ that controls the strength of the regularization penalty, which helps prevent overfitting by constraining the growth of the model’s coefficients. A higher $\\alpha$ penalizes large coefficients more, while a lower $\\alpha$ allows them to grow larger.\n",
    "\n",
    "When creating the model, the parameter must be specified, for example:\n",
    "\n",
    "```python\n",
    "ridge_model = Ridge(alpha=100)\n",
    "```\n",
    "\n",
    "This introduces another instance of the model selection problem: we must determine the value of $\\alpha$ that yields the best CV RMSE score.\n",
    "\n",
    "**Steps to Follow:**\n",
    "\n",
    "1. **Standardize the Data:**  \n",
    "   Ridge regression is sensitive to the scale of the features, so we will use `StandardScaler` to standardize the feature set to have a mean of 0 and a standard deviation of 1 before training and testing. Note that the target variable does **not** need to be scaled.\n",
    "\n",
    "2. **Perform Cross-Validation Over a Range of Alpha Values:**  \n",
    "   For each $\\alpha \\in \\{100, 110, 120, \\dots, 500\\}$, calculate the cross-validation RMSE score for the model using 5-Fold CV scoring.  \n",
    "\n",
    "3. **Visualize the Results:**  \n",
    "   Plot the CV RMSE scores against the $\\alpha$ values.\n",
    "\n",
    "4. **Identify the Best Alpha:**  \n",
    "   Determine the $\\alpha$ that results in the minimum CV RMSE Score and print it out, along with the score.\n",
    "\n",
    "**Tip:** It would be an *excellent* idea to add the suffix `_scaled` to any set to which you apply scaling."
   ]
  },
  {
   "cell_type": "code",
   "execution_count": 15,
   "id": "4bdd7829-c8b5-4911-a739-e5e61b227b25",
   "metadata": {},
   "outputs": [],
   "source": [
    "# Your code here\n"
   ]
  },
  {
   "cell_type": "markdown",
   "id": "cb07668d-47c4-4928-bf7f-cf4ff0d6804f",
   "metadata": {},
   "source": [
    "### Problem Three Graded Answers\n",
    "\n",
    "Set `a3a` to the alpha determined to have the minimum CV RMSE score."
   ]
  },
  {
   "cell_type": "code",
   "execution_count": 16,
   "id": "a77a0908-06f0-414e-953f-19a541c1b8ba",
   "metadata": {},
   "outputs": [],
   "source": [
    "# Your answer here; use an expression, not a constant derived by examining the data\n",
    "\n",
    "a3a = 0                     # replace 0 with an expression"
   ]
  },
  {
   "cell_type": "code",
   "execution_count": 17,
   "id": "d3a1af1c-3812-4bef-bb96-a2a258bc6999",
   "metadata": {},
   "outputs": [
    {
     "name": "stdout",
     "output_type": "stream",
     "text": [
      "a3a = 0\n"
     ]
    }
   ],
   "source": [
    "# Do not change this cell in any way. \n",
    "\n",
    "print(f\"a3a = {a3a}\")"
   ]
  },
  {
   "cell_type": "markdown",
   "id": "3f57e021-0e48-4d63-9c5e-f0d0b65078d4",
   "metadata": {},
   "source": [
    "Set `a3b` to the CV score found at that alpha. "
   ]
  },
  {
   "cell_type": "code",
   "execution_count": 18,
   "id": "e5cacf50-2f40-4c1f-ab57-54cbc8f39fef",
   "metadata": {},
   "outputs": [],
   "source": [
    "# Your answer here; use an expression, not a constant derived by examining the data\n",
    "\n",
    "a3b = 0                     # replace 0 with an expression"
   ]
  },
  {
   "cell_type": "code",
   "execution_count": 19,
   "id": "26c1e982-1e88-40fb-a896-6206b79fdd15",
   "metadata": {},
   "outputs": [
    {
     "name": "stdout",
     "output_type": "stream",
     "text": [
      "a3b = $0.00\n"
     ]
    }
   ],
   "source": [
    "# Do not change this cell in any way. \n",
    "\n",
    "print(f\"a3b = ${a3b:,.2f}\")"
   ]
  },
  {
   "cell_type": "markdown",
   "id": "dbb57239-029f-4f53-8d8f-7ad5006a7b7e",
   "metadata": {},
   "source": [
    "## **Problem Four: Evaluate Your Best Model**\n",
    "\n",
    "In this final problem, you will identify the model with the best cross-validation RMSE score and evaluate its performance on the held-out test set.\n",
    "\n",
    "#### **Steps to Follow:**\n",
    "\n",
    "1. **Identify the Best Model:**\n",
    "   From your previous results, select the model that achieved the lowest CV RMSE score. \n",
    "\n",
    "3. **Train and Test the Selected Model:** \n",
    "   - For Forward or Backward Feature Selection:  Train a Linear Regression model using `X_train` **restricted to the selected best feature set**, and evaluate it on `X_test` restricted to the same feature set.\n",
    "   - For Ridge Regression:   Train a Ridge Regression model using the best alpha found from cross-validation, with `StandardScaler` applied to both `X_train` and `X_test` before training and testing.\n",
    "\n",
    "4. **Report Your Results:**\n",
    "   Print the name of the best model and the test RMSE in dollars.\n",
    "\n"
   ]
  },
  {
   "cell_type": "code",
   "execution_count": 20,
   "id": "bea61bba-4433-4928-9a5b-8dd281ca1ffe",
   "metadata": {},
   "outputs": [],
   "source": [
    "# Your code here\n"
   ]
  },
  {
   "cell_type": "markdown",
   "id": "0f254631-5f4d-4b2a-b495-8c9865369f1c",
   "metadata": {},
   "source": [
    "### Problem Four Graded Answers\n",
    "\n",
    "Set `a4a` to the best model, according to the CV RMSE score."
   ]
  },
  {
   "cell_type": "code",
   "execution_count": 21,
   "id": "60e8b581-3764-4c02-b3ac-1a883e16d1d8",
   "metadata": {},
   "outputs": [],
   "source": [
    "# Your answer here\n",
    "\n",
    "a4a = 0                     # replace 0 with one of [1,2,3]"
   ]
  },
  {
   "cell_type": "code",
   "execution_count": 22,
   "id": "395043f6-84ad-4d07-a029-160b29537131",
   "metadata": {},
   "outputs": [
    {
     "name": "stdout",
     "output_type": "stream",
     "text": [
      "a4a = 0\n"
     ]
    }
   ],
   "source": [
    "# Do not change this cell in any way. \n",
    "\n",
    "print(f\"a4a = {a4a}\")"
   ]
  },
  {
   "cell_type": "markdown",
   "id": "68877104-7f7a-41c1-89c8-173288d268e0",
   "metadata": {},
   "source": [
    "Set `a4b` to the test RMSE for the best model."
   ]
  },
  {
   "cell_type": "code",
   "execution_count": 23,
   "id": "afe97ea9-9370-49aa-a99a-f08cfa433376",
   "metadata": {},
   "outputs": [],
   "source": [
    "# Your answer here; use an expression, not a constant derived by examining the data\n",
    "\n",
    "a4b = 0                     # replace 0 with an expression"
   ]
  },
  {
   "cell_type": "code",
   "execution_count": 24,
   "id": "371f2f02-b7d3-462e-9ed7-90a0c98c87d3",
   "metadata": {},
   "outputs": [
    {
     "name": "stdout",
     "output_type": "stream",
     "text": [
      "a4b = $0.00\n"
     ]
    }
   ],
   "source": [
    "# Do not change this cell in any way. \n",
    "\n",
    "print(f\"a4b = ${a4b:,.2f}\")"
   ]
  },
  {
   "cell_type": "markdown",
   "id": "e2e8a08b-fdaa-4aaf-9448-a2064374ee3e",
   "metadata": {},
   "source": [
    "### Final question...\n",
    "\n",
    "Why didn't we evaluate *all* the models on the test set and compare them?\n",
    "\n",
    "### Some answers...\n",
    "\n",
    "It’s tempting to reconsider your choice based on test scores, but this violates the core principle of not \"training to the test.\" That’s why we deliberately avoided evaluating all models on the test set.\n",
    "\n",
    "The test set doesn’t influence model training; it serves as a final, unbiased check on how well your chosen model generalizes to unseen data, ensuring that your selection process wasn’t overly optimistic.\n",
    "\n",
    "A natural **next question** is: Why use a test set at all? Beyond being an industry-standard practice that simulates the real world—where you can’t adjust your model after deployment—consider:\n",
    "\n",
    "- **Validating your workflow:** A strong test score confirms that your model selection process (feature selection, hyperparameter tuning, etc.) was sound. A poor test score despite good cross-validation results may indicate overfitting or a flawed approach.\n",
    "  \n",
    "- **Guarding against over-optimism:** Cross-validation can be slightly optimistic, especially with limited data or repeated trials. The test set provides a final safeguard against relying on an overly tuned model.\n"
   ]
  }
 ],
 "metadata": {
  "kernelspec": {
   "display_name": ".venv",
   "language": "python",
   "name": "python3"
  },
  "language_info": {
   "codemirror_mode": {
    "name": "ipython",
    "version": 3
   },
   "file_extension": ".py",
   "mimetype": "text/x-python",
   "name": "python",
   "nbconvert_exporter": "python",
   "pygments_lexer": "ipython3",
   "version": "3.12.5"
  }
 },
 "nbformat": 4,
 "nbformat_minor": 5
}
